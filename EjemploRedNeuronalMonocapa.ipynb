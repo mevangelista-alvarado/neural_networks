{
  "nbformat": 4,
  "nbformat_minor": 0,
  "metadata": {
    "colab": {
      "provenance": [],
      "authorship_tag": "ABX9TyPlSty8sOE29cZ4b3UWONF3",
      "include_colab_link": true
    },
    "kernelspec": {
      "name": "python3",
      "display_name": "Python 3"
    },
    "language_info": {
      "name": "python"
    }
  },
  "cells": [
    {
      "cell_type": "markdown",
      "metadata": {
        "id": "view-in-github",
        "colab_type": "text"
      },
      "source": [
        "<a href=\"https://colab.research.google.com/github/mevangelista-alvarado/neural_networks/blob/main/EjemploRedNeuronalMonocapa.ipynb\" target=\"_parent\"><img src=\"https://colab.research.google.com/assets/colab-badge.svg\" alt=\"Open In Colab\"/></a>"
      ]
    },
    {
      "cell_type": "markdown",
      "source": [
        "![urc_logo_ext.png](data:image/png;base64,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)"
      ],
      "metadata": {
        "id": "HzFX3WwJNcFl"
      }
    },
    {
      "cell_type": "markdown",
      "source": [
        "## Introducción"
      ],
      "metadata": {
        "id": "327bCwBaNoaY"
      }
    },
    {
      "cell_type": "markdown",
      "source": [
        "Mostramos un ejemplo en Python puro y otro en Pytorch, donde se implementa una red neuronal para resolver el problema de calcular el doble de un número.  "
      ],
      "metadata": {
        "id": "Xv9D3hH6OXto"
      }
    },
    {
      "cell_type": "markdown",
      "source": [
        "## Implementación en Python"
      ],
      "metadata": {
        "id": "vxsusnmVNyuz"
      }
    },
    {
      "cell_type": "markdown",
      "source": [
        "Importamos los módulos necesarios"
      ],
      "metadata": {
        "id": "lMYGSaWrOQFC"
      }
    },
    {
      "cell_type": "code",
      "source": [
        "import random"
      ],
      "metadata": {
        "id": "gX_HZhr8N_dk"
      },
      "execution_count": 1,
      "outputs": []
    },
    {
      "cell_type": "markdown",
      "source": [
        "Definimos los datos de entrenamiento, donde $x$ son los datos de entradas e $y$ son las etiquetas."
      ],
      "metadata": {
        "id": "fh10OPSIOSUh"
      }
    },
    {
      "cell_type": "code",
      "source": [
        "# Datos de entrenamiento\n",
        "X = [1, 2, 3, 4, 5]  # Datos de entrada\n",
        "y = [2, 4, 6, 8, 10]  # Datos de salida"
      ],
      "metadata": {
        "id": "AtYwxFzzOAbB"
      },
      "execution_count": 2,
      "outputs": []
    },
    {
      "cell_type": "markdown",
      "source": [
        "Definimos el peso $w$ y sesgo $b$ inicial de forma aleatoria, así como la tasa de aprendizaje."
      ],
      "metadata": {
        "id": "XBhpIE7vOwQC"
      }
    },
    {
      "cell_type": "code",
      "source": [
        "w = random.uniform(0, 1)  # Peso inicial\n",
        "b = random.uniform(0, 1)  # Sesgo inicial\n",
        "lr = 0.01  # Tasa de aprendizaje"
      ],
      "metadata": {
        "id": "2InEVc5-OHOB"
      },
      "execution_count": 3,
      "outputs": []
    },
    {
      "cell_type": "markdown",
      "source": [
        "Definimos el número de épocas para realizar el entrenamiento."
      ],
      "metadata": {
        "id": "g2pa3IEIO7Nt"
      }
    },
    {
      "cell_type": "code",
      "source": [
        "epochs = 800 #1000"
      ],
      "metadata": {
        "id": "9wq3_U0kONNO"
      },
      "execution_count": 9,
      "outputs": []
    },
    {
      "cell_type": "markdown",
      "source": [
        "Realizamos el entrenamiento"
      ],
      "metadata": {
        "id": "OOTNxZtqPIO9"
      }
    },
    {
      "cell_type": "code",
      "source": [
        "for epoch in range(epochs):\n",
        "    total_error = 0\n",
        "    for i in range(len(X)):\n",
        "        # Predicción de la neurona\n",
        "        y_pred = w * X[i] + b\n",
        "\n",
        "        # Cálculo del error\n",
        "        error = y[i] - y_pred\n",
        "\n",
        "        # Actualización de pesos y sesgo\n",
        "        w += lr * error * X[i]\n",
        "        b += lr * error\n",
        "\n",
        "        total_error += error\n",
        "\n",
        "    # Calcular el error cuadrático medio (MSE) promedio\n",
        "    mse = total_error / len(X)\n",
        "\n",
        "    # Mostrar el progreso\n",
        "    if (epoch + 1) % 100 == 0:\n",
        "        _mse = \"{:.20f}\".format(mse)\n",
        "        print(f'Época {epoch + 1}, MSE: {_mse}')"
      ],
      "metadata": {
        "colab": {
          "base_uri": "https://localhost:8080/"
        },
        "id": "aMnPdTcJOKsn",
        "outputId": "ebbea71d-c876-4dd2-e034-f83430da283f"
      },
      "execution_count": 15,
      "outputs": [
        {
          "output_type": "stream",
          "name": "stdout",
          "text": [
            "Época 100, MSE: -0.00000000000995017402\n",
            "Época 200, MSE: -0.00000000000415001367\n",
            "Época 300, MSE: -0.00000000000172990511\n",
            "Época 400, MSE: -0.00000000000072182260\n",
            "Época 500, MSE: -0.00000000000030135894\n",
            "Época 600, MSE: -0.00000000000012603252\n",
            "Época 700, MSE: -0.00000000000005178080\n",
            "Época 800, MSE: -0.00000000000002282619\n"
          ]
        }
      ]
    },
    {
      "cell_type": "code",
      "execution_count": 11,
      "metadata": {
        "colab": {
          "base_uri": "https://localhost:8080/"
        },
        "id": "3wlwv6CrNGJf",
        "outputId": "06690723-862c-45db-c244-f794675b0392"
      },
      "outputs": [
        {
          "output_type": "stream",
          "name": "stdout",
          "text": [
            "Peso (w): 1.9999999619210058\n",
            "Sesgo (b): 1.4844344999224212e-07\n"
          ]
        }
      ],
      "source": [
        "# Resultado final\n",
        "print(f'Peso (w): {w}')\n",
        "print(f'Sesgo (b): {b}')"
      ]
    },
    {
      "cell_type": "markdown",
      "source": [
        "Comprobamos el comportamiento con valores distintos a los que entreno nuestro modelo."
      ],
      "metadata": {
        "id": "6xGLSTTVPTmB"
      }
    },
    {
      "cell_type": "code",
      "source": [
        "# Nuevos datos de prueba\n",
        "X_test = [6, 7, 8, 9, 10]\n",
        "\n",
        "# Realizar predicciones con el modelo entrenado\n",
        "predictions = [w * x + b for x in X_test]\n",
        "\n",
        "# Imprimir las predicciones\n",
        "for i in range(len(X_test)):\n",
        "    print(f'Entrada: {X_test[i]}, Predicción: {predictions[i]}')"
      ],
      "metadata": {
        "colab": {
          "base_uri": "https://localhost:8080/"
        },
        "id": "K84Buww7PYfi",
        "outputId": "12c43f70-a5e8-437f-d604-158165edd94b"
      },
      "execution_count": 12,
      "outputs": [
        {
          "output_type": "stream",
          "name": "stdout",
          "text": [
            "Entrada: 6, Predicción: 11.999999919969484\n",
            "Entrada: 7, Predicción: 13.99999988189049\n",
            "Entrada: 8, Predicción: 15.999999843811496\n",
            "Entrada: 9, Predicción: 17.999999805732504\n",
            "Entrada: 10, Predicción: 19.99999976765351\n"
          ]
        }
      ]
    },
    {
      "cell_type": "markdown",
      "source": [
        "## Implementación en Pytorch"
      ],
      "metadata": {
        "id": "K7dGVWgBN-s9"
      }
    },
    {
      "cell_type": "markdown",
      "source": [
        "Importamos los módulos necesarios"
      ],
      "metadata": {
        "id": "9nZ89pRXT6ec"
      }
    },
    {
      "cell_type": "code",
      "source": [
        "import torch\n",
        "import torch.nn as nn\n",
        "import torch.optim as optim"
      ],
      "metadata": {
        "id": "wq9A6vEuSu2q"
      },
      "execution_count": 17,
      "outputs": []
    },
    {
      "cell_type": "markdown",
      "source": [
        "Definimos los datos de entrenamiento, donde $x$ son los datos de entradas e $y$ son las etiquetas, en formato `Pytorch`"
      ],
      "metadata": {
        "id": "gsDEZUgUT-VO"
      }
    },
    {
      "cell_type": "code",
      "source": [
        "# Datos de entrenamiento\n",
        "X = torch.tensor([[1.0], [2.0], [3.0], [4.0]], dtype=torch.float32)\n",
        "y = torch.tensor([[2.0], [4.0], [6.0], [8.0]], dtype=torch.float32)"
      ],
      "metadata": {
        "id": "KYeZbhbVSwGm"
      },
      "execution_count": 18,
      "outputs": []
    },
    {
      "cell_type": "markdown",
      "source": [
        "Definimos el modelo de una red neuronal simple:\n",
        "\n",
        "Se crea una clase llamada `SimpleNet` que hereda de `nn.Module`. En el constructor __init__, definimos una capa lineal (`nn.Linear`) con una entrada de 1 y una salida de 1. Esta capa representa una única neurona.\n",
        "\n",
        "En el método `forward`, especificamos cómo se deben realizar las operaciones hacia adelante. En este caso, simplemente pasamos los datos de entrada a través de la capa lineal."
      ],
      "metadata": {
        "id": "CE8c0T6YSytT"
      }
    },
    {
      "cell_type": "code",
      "source": [
        "class SimpleNet(nn.Module):\n",
        "    def __init__(self):\n",
        "        super(SimpleNet, self).__init__()\n",
        "        self.fc = nn.Linear(1, 1)\n",
        "\n",
        "    def forward(self, x):\n",
        "        return self.fc(x)"
      ],
      "metadata": {
        "id": "usox948hSznz"
      },
      "execution_count": 24,
      "outputs": []
    },
    {
      "cell_type": "markdown",
      "source": [
        " Creamos una instancia del modelo"
      ],
      "metadata": {
        "id": "PWrKXp-zUaav"
      }
    },
    {
      "cell_type": "code",
      "source": [
        "model = SimpleNet()"
      ],
      "metadata": {
        "id": "rZKGXpJQS7YV"
      },
      "execution_count": 26,
      "outputs": []
    },
    {
      "cell_type": "markdown",
      "source": [
        "Definimos una función de pérdida (criterion) que mide la diferencia entre las predicciones del modelo y los valores reales. Usamos el error cuadrático medio (MSE) en este caso.\n",
        "\n",
        "\n",
        "Configuramos un optimizador (optimizer) para actualizar los pesos del modelo durante el entrenamiento. Usamos el optimizador SGD (descenso de gradiente estocástico) con una tasa de aprendizaje de 0.01."
      ],
      "metadata": {
        "id": "C1f6dsYFUhZa"
      }
    },
    {
      "cell_type": "code",
      "source": [
        "criterion = nn.MSELoss()\n",
        "optimizer = optim.SGD(model.parameters(), lr=0.01)"
      ],
      "metadata": {
        "id": "IjPf1PxgS-f8"
      },
      "execution_count": 27,
      "outputs": []
    },
    {
      "cell_type": "markdown",
      "source": [
        "Entrenamiento del modelo\n",
        "\n",
        "En un bucle de entrenamiento, iteramos a través de 1000 épocas.\n",
        "\n",
        "En cada época:\n",
        "\n",
        "Realizamos una pasada hacia adelante (`forward pass`) para obtener las predicciones del modelo.\n",
        "\n",
        "Calculamos la pérdida comparando las predicciones con los valores reales.\n",
        "\n",
        "Realizamos una pasada hacia atrás (`backward pass`) para calcular los gradientes y actualizar los pesos del modelo con el optimizador.\n",
        "\n",
        "Mostramos la pérdida en cada época, lo que nos permite seguir el progreso del entrenamiento."
      ],
      "metadata": {
        "id": "b44YRtLbU0Hn"
      }
    },
    {
      "cell_type": "code",
      "source": [
        "for epoch in range(1000):\n",
        "    # Forward pass\n",
        "    outputs = model(X)\n",
        "    loss = criterion(outputs, y)\n",
        "\n",
        "    # Backward pass y actualización de pesos\n",
        "    optimizer.zero_grad()\n",
        "    loss.backward()\n",
        "    optimizer.step()\n",
        "\n",
        "    if (epoch + 1) % 100 == 0:\n",
        "        _mse = \"{:.20f}\".format(loss.item())\n",
        "        print(f'Época {epoch + 1}, Pérdida (MSE): {_mse}')"
      ],
      "metadata": {
        "colab": {
          "base_uri": "https://localhost:8080/"
        },
        "id": "PaPLD7yRSj2N",
        "outputId": "5e5218a7-f5d1-4a3c-a4a3-066898217ed8"
      },
      "execution_count": 36,
      "outputs": [
        {
          "output_type": "stream",
          "name": "stdout",
          "text": [
            "Época 100, Pérdida (MSE): 0.00000050719575028779\n",
            "Época 200, Pérdida (MSE): 0.00000027860176032846\n",
            "Época 300, Pérdida (MSE): 0.00000015305489853290\n",
            "Época 400, Pérdida (MSE): 0.00000008409615759319\n",
            "Época 500, Pérdida (MSE): 0.00000004619585070031\n",
            "Época 600, Pérdida (MSE): 0.00000002538031651511\n",
            "Época 700, Pérdida (MSE): 0.00000001397017967975\n",
            "Época 800, Pérdida (MSE): 0.00000000770610597556\n",
            "Época 900, Pérdida (MSE): 0.00000000422494395025\n",
            "Época 1000, Pérdida (MSE): 0.00000000234707897562\n"
          ]
        }
      ]
    },
    {
      "cell_type": "markdown",
      "source": [
        "Comprobamos el comportamiento con valores distintos a los que entreno nuestro modelo."
      ],
      "metadata": {
        "id": "oqfavEwHVKFa"
      }
    },
    {
      "cell_type": "code",
      "source": [
        "# Evaluar el modelo\n",
        "X_test = [[[5.0]], [[6.0]], [[7.0]], [[8.0]]]\n",
        "for i in range(len(X_test)):\n",
        "    predicted = model(torch.tensor(X_test[i], dtype=torch.float32))\n",
        "    print(f'Entrada: {X_test[i]}, Predicción: {predicted.item()}')"
      ],
      "metadata": {
        "colab": {
          "base_uri": "https://localhost:8080/"
        },
        "id": "AxT7d2Q3TCtz",
        "outputId": "5963d342-e246-4a22-932e-9d4f412ee94b"
      },
      "execution_count": 38,
      "outputs": [
        {
          "output_type": "stream",
          "name": "stdout",
          "text": [
            "Entrada: [[5.0]], Predicción: 9.999916076660156\n",
            "Entrada: [[6.0]], Predicción: 11.999876022338867\n",
            "Entrada: [[7.0]], Predicción: 13.999835014343262\n",
            "Entrada: [[8.0]], Predicción: 15.999794960021973\n"
          ]
        }
      ]
    },
    {
      "cell_type": "markdown",
      "source": [
        "## Interpretación del MSE"
      ],
      "metadata": {
        "id": "BA4LyQpiQuNt"
      }
    },
    {
      "cell_type": "markdown",
      "source": [
        "El Error Cuadrático Medio (MSE, por sus siglas en inglés, Mean Squared Error) es una medida de cuánto se desvían las predicciones de un modelo de regresión lineal de los valores reales en un conjunto de datos.\n",
        "\n",
        "\n",
        "Es ampliamente utilizado en la evaluación de modelos de regresión y representa la diferencia cuadrada promedio entre las predicciones del modelo y los valores reales.\n",
        "\n",
        "La fórmula del MSE se expresa de la siguiente manera:\n",
        "\n",
        "$$mse = \\frac{1}{n} \\Sigma(y_{i} - \\bar{y}_{i})^{2}$$\n",
        "\n",
        "Donde:\n",
        "\n",
        "\n",
        "*   $mse$ es el Error Cuadrático Medio.\n",
        "*   $n$ es el número de puntos de datos en el conjunto de datos.\n",
        "*   $y_{i}$ es el valor real (la etiqueta) para el punto $x_i$.\n",
        "*   $\\bar{y}_{i}$ es la predicción del modelo para el punto $x_i$.  \n",
        "\n",
        "El MSE calcula la diferencia entre cada valor real y su predicción, lo eleva al cuadrado y luego toma el promedio de estas diferencias al dividir por el número total de puntos de datos.\n",
        "\n",
        "El cuadrado se utiliza para darle un mayor peso a los errores más grandes y penalizarlos."
      ],
      "metadata": {
        "id": "cOnRNPKYRH7S"
      }
    },
    {
      "cell_type": "markdown",
      "source": [
        "El valor correcto del Error Cuadrático Medio (MSE) depende en gran medida del contexto específico de tu problema y de las unidades de medida de tus datos.\n",
        "\n",
        "Sin embargo, hay algunas pautas generales que se pueden seguir para interpretar el MSE:\n",
        "\n",
        "__MSE Cercano a Cero__: Un MSE cercano a cero indica un excelente ajuste del modelo a los datos de entrenamiento. En términos generales, cuanto más cercano a cero sea el MSE, mejor será el modelo.\n",
        "\n",
        "__MSE Pequeño__: Un MSE pequeño (por ejemplo, 0.01) sugiere un buen ajuste del modelo. Esto significa que las predicciones del modelo son muy similares a los valores reales y que el modelo es capaz de capturar eficazmente la relación entre las entradas y las salidas.\n",
        "\n",
        "__MSE Moderado__: Un MSE moderado (por ejemplo, entre 0.1 y 1) podría considerarse aceptable en algunos casos. Esto depende de la tolerancia para el error en tu problema específico. En algunos casos, un ajuste más preciso puede ser necesario, mientras que en otros, un error moderado podría ser aceptable.\n",
        "\n",
        "__MSE Grande__: Un MSE grande (por ejemplo, superior a 1) sugiere que el modelo tiene dificultades para ajustarse a los datos y puede no ser adecuado para el problema en cuestión. Un MSE significativamente alto indica que el modelo no está capturando bien la relación entre las entradas y las salidas.\n",
        "\n",
        "Es importante destacar que el MSE debe interpretarse en relación con el contexto de tu problema.\n",
        "\n",
        "Además, es fundamental considerar cómo el modelo se desempeña en datos de prueba independientes.\n",
        "\n",
        "Por ejemplo, un MSE bajo en los datos de entrenamiento, pero un MSE alto en los datos de prueba, puede indicar que el modelo está sobreajustando (overfitting) a los datos de entrenamiento."
      ],
      "metadata": {
        "id": "pSpfXCB5Qv8l"
      }
    }
  ]
}